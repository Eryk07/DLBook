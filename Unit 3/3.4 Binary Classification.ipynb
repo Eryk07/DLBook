{
 "cells": [
  {
   "cell_type": "markdown",
   "id": "62a8f227-c00e-46f8-b57d-5e3e386fde7f",
   "metadata": {},
   "source": [
    "# 3.4 - Binary classification\n",
    "Classify reviews from IMDB - postive or negative.\n",
    "## Load data"
   ]
  },
  {
   "cell_type": "code",
   "execution_count": 3,
   "id": "978fb65b-eb61-43a8-b0a2-429115d0b670",
   "metadata": {},
   "outputs": [
    {
     "name": "stdout",
     "output_type": "stream",
     "text": [
      "Downloading data from https://storage.googleapis.com/tensorflow/tf-keras-datasets/imdb.npz\n",
      "17465344/17464789 [==============================] - 1s 0us/step\n",
      "17473536/17464789 [==============================] - 1s 0us/step\n"
     ]
    }
   ],
   "source": [
    "from keras.datasets import imdb\n",
    "(train_data, train_labels), (test_data, test_labels) = imdb.load_data(num_words=10000)"
   ]
  },
  {
   "cell_type": "code",
   "execution_count": 6,
   "id": "d9e77d8c-59bb-401a-9f7e-4bd2d60cab46",
   "metadata": {},
   "outputs": [
    {
     "data": {
      "text/plain": [
       "9999"
      ]
     },
     "execution_count": 6,
     "metadata": {},
     "output_type": "execute_result"
    }
   ],
   "source": [
    "max([max(sequence) for sequence in train_data])"
   ]
  },
  {
   "cell_type": "markdown",
   "id": "80596cce-9dfd-4595-97fe-7aeebc648cfd",
   "metadata": {},
   "source": [
    "Example review:"
   ]
  },
  {
   "cell_type": "code",
   "execution_count": 8,
   "id": "3984bf9a-09bc-43f2-b62b-db817e9a9fb7",
   "metadata": {},
   "outputs": [],
   "source": [
    "word_index = imdb.get_word_index()\n",
    "reverse_word_index = dict(\n",
    "    [(value, key) for (key, value) in word_index.items()])\n",
    "decoded_review = ' '.join(\n",
    "    [reverse_word_index.get(i-3, '?') for i in train_data[0]])"
   ]
  },
  {
   "cell_type": "code",
   "execution_count": 9,
   "id": "313df92f-13b7-4a8b-9c18-bdff4d4b343e",
   "metadata": {},
   "outputs": [
    {
     "data": {
      "text/plain": [
       "\"? this film was just brilliant casting location scenery story direction everyone's really suited the part they played and you could just imagine being there robert ? is an amazing actor and now the same being director ? father came from the same scottish island as myself so i loved the fact there was a real connection with this film the witty remarks throughout the film were great it was just brilliant so much that i bought the film as soon as it was released for ? and would recommend it to everyone to watch and the fly fishing was amazing really cried at the end it was so sad and you know what they say if you cry at a film it must have been good and this definitely was also ? to the two little boy's that played the ? of norman and paul they were just brilliant children are often left out of the ? list i think because the stars that play them all grown up are such a big profile for the whole film but these children are amazing and should be praised for what they have done don't you think the whole story was so lovely because it was true and was someone's life after all that was shared with us all\""
      ]
     },
     "execution_count": 9,
     "metadata": {},
     "output_type": "execute_result"
    }
   ],
   "source": [
    "decoded_review"
   ]
  },
  {
   "cell_type": "code",
   "execution_count": 11,
   "id": "e9111a85-571a-4c18-842c-7a0022755786",
   "metadata": {},
   "outputs": [],
   "source": [
    "decoded_review_label = train_labels[0]"
   ]
  },
  {
   "cell_type": "code",
   "execution_count": 12,
   "id": "7e621691-1b67-40b4-9d91-2335b6c8d9c1",
   "metadata": {},
   "outputs": [
    {
     "data": {
      "text/plain": [
       "1"
      ]
     },
     "execution_count": 12,
     "metadata": {},
     "output_type": "execute_result"
    }
   ],
   "source": [
    "decoded_review_label"
   ]
  },
  {
   "cell_type": "markdown",
   "id": "c7ee9f11-04eb-436d-b657-5bdf6d821c28",
   "metadata": {},
   "source": [
    "## Prepare data\n",
    "Code words indexes into the binary vectors."
   ]
  },
  {
   "cell_type": "code",
   "execution_count": 13,
   "id": "bd187bcb-51ce-429d-b5ee-e4626e9c69e3",
   "metadata": {},
   "outputs": [],
   "source": [
    "import numpy as np\n",
    "\n",
    "def vectorize_sequences(sequences, dimension=10000):\n",
    "    results = np.zeros((len(sequences), dimension))\n",
    "    for i, sequence in enumerate(sequences):\n",
    "        results[i, sequence] = 1\n",
    "    return results\n",
    "\n",
    "x_train = vectorize_sequences(train_data)\n",
    "x_test = vectorize_sequences(test_data)"
   ]
  },
  {
   "cell_type": "code",
   "execution_count": 17,
   "id": "6c4e1122-ae80-49ec-aa8d-c7d14a26b238",
   "metadata": {},
   "outputs": [
    {
     "data": {
      "text/plain": [
       "array([0., 1., 1., 0., 1., 1., 1., 1., 1., 1.])"
      ]
     },
     "execution_count": 17,
     "metadata": {},
     "output_type": "execute_result"
    }
   ],
   "source": [
    "x_train[0][:10]"
   ]
  },
  {
   "cell_type": "code",
   "execution_count": 18,
   "id": "cbed1951-34e1-46e4-b88f-2b7119d0df25",
   "metadata": {},
   "outputs": [],
   "source": [
    "y_train = np.asarray(train_labels).astype('float32')\n",
    "y_test = np.asarray(test_labels).astype('float32')"
   ]
  },
  {
   "cell_type": "markdown",
   "id": "4abbca9c-180e-4fd3-ba9c-850189fb0291",
   "metadata": {},
   "source": [
    "## Prepare NN\n",
    "We choose layer *Dense* for such simple case.\n",
    "\n",
    "*Hidden unit* is a dimension of representation space of the layer.\n",
    "\n",
    "While working with *Dense*, there are 2 questions:\n",
    "- How many layers?\n",
    "- How many hidden units in each layer?\n",
    "\n",
    "For now, we choose:\n",
    "- 2 *Dense* layers with 16 hidden units (with ReLU - zero to negative values)\n",
    "- 1 output layer with estimated sentiment scalar value (with probability calculated by Sigmoid - which moves any value to the <0, 1> range)"
   ]
  },
  {
   "cell_type": "code",
   "execution_count": 20,
   "id": "a89f3573-0c59-497e-9760-56c852ac9b88",
   "metadata": {},
   "outputs": [],
   "source": [
    "from keras import models\n",
    "from keras import layers\n",
    "\n",
    "model = models.Sequential()\n",
    "model.add(layers.Dense(16, activation='relu', input_shape=(10000,)))\n",
    "model.add(layers.Dense(16, activation='relu'))\n",
    "model.add(layers.Dense(1, activation='sigmoid'))"
   ]
  },
  {
   "cell_type": "markdown",
   "id": "73c80c67-f07f-4034-9c90-3cc38dd41c13",
   "metadata": {},
   "source": [
    "Now we need to set up the loss function and the optimizer. For the binary classification, the best metod is *binary cross-entropy*.\n",
    "\n",
    "*Cross-entropy* is metric of the distance between distribution of the real and predicted values."
   ]
  },
  {
   "cell_type": "code",
   "execution_count": 23,
   "id": "3e457597-8e5d-4b1d-b6ed-bc572d511878",
   "metadata": {},
   "outputs": [],
   "source": [
    "model.compile(optimizer='rmsprop', loss='binary_crossentropy', metrics=['acc'])"
   ]
  },
  {
   "cell_type": "markdown",
   "id": "6a746cb3-464d-4eed-9876-eca2880a2855",
   "metadata": {},
   "source": [
    "## Model training & validation\n",
    "Let's get some model values for the validation purpose."
   ]
  },
  {
   "cell_type": "code",
   "execution_count": 22,
   "id": "b694bbe6-8ca6-43fd-adfa-0f0e28726a2f",
   "metadata": {},
   "outputs": [],
   "source": [
    "x_val = x_train[:10000]\n",
    "partial_x_train = x_train[10000:]\n",
    "\n",
    "y_val = y_train[:10000]\n",
    "partial_y_train = y_train[10000:]"
   ]
  },
  {
   "cell_type": "code",
   "execution_count": 26,
   "id": "b1f405c4-53ba-4885-bb5f-bf00d3db1989",
   "metadata": {},
   "outputs": [
    {
     "name": "stdout",
     "output_type": "stream",
     "text": [
      "Epoch 1/20\n",
      "30/30 [==============================] - 45s 1s/step - loss: 0.5203 - acc: 0.7856 - val_loss: 0.4017 - val_acc: 0.8575\n",
      "Epoch 2/20\n",
      "30/30 [==============================] - 23s 795ms/step - loss: 0.3171 - acc: 0.9012 - val_loss: 0.3098 - val_acc: 0.8839\n",
      "Epoch 3/20\n",
      "30/30 [==============================] - 26s 883ms/step - loss: 0.2295 - acc: 0.9280 - val_loss: 0.2796 - val_acc: 0.8918\n",
      "Epoch 4/20\n",
      "30/30 [==============================] - 27s 943ms/step - loss: 0.1818 - acc: 0.9398 - val_loss: 0.2818 - val_acc: 0.8863\n",
      "Epoch 5/20\n",
      "30/30 [==============================] - 30s 1s/step - loss: 0.1463 - acc: 0.9530 - val_loss: 0.2972 - val_acc: 0.8832\n",
      "Epoch 6/20\n",
      "30/30 [==============================] - 36s 1s/step - loss: 0.1225 - acc: 0.9611 - val_loss: 0.2904 - val_acc: 0.8867\n",
      "Epoch 7/20\n",
      "30/30 [==============================] - 33s 1s/step - loss: 0.1016 - acc: 0.9695 - val_loss: 0.3063 - val_acc: 0.8858\n",
      "Epoch 8/20\n",
      "30/30 [==============================] - 35s 1s/step - loss: 0.0840 - acc: 0.9752 - val_loss: 0.3243 - val_acc: 0.8833\n",
      "Epoch 9/20\n",
      "30/30 [==============================] - 35s 1s/step - loss: 0.0720 - acc: 0.9796 - val_loss: 0.3708 - val_acc: 0.8721\n",
      "Epoch 10/20\n",
      "30/30 [==============================] - 35s 1s/step - loss: 0.0586 - acc: 0.9853 - val_loss: 0.3709 - val_acc: 0.8805\n",
      "Epoch 11/20\n",
      "30/30 [==============================] - 31s 1s/step - loss: 0.0477 - acc: 0.9879 - val_loss: 0.4135 - val_acc: 0.8756\n",
      "Epoch 12/20\n",
      "30/30 [==============================] - 31s 1s/step - loss: 0.0414 - acc: 0.9895 - val_loss: 0.4344 - val_acc: 0.8731\n",
      "Epoch 13/20\n",
      "30/30 [==============================] - 32s 1s/step - loss: 0.0328 - acc: 0.9931 - val_loss: 0.4604 - val_acc: 0.8754\n",
      "Epoch 14/20\n",
      "30/30 [==============================] - 30s 1s/step - loss: 0.0259 - acc: 0.9955 - val_loss: 0.4934 - val_acc: 0.8727\n",
      "Epoch 15/20\n",
      "30/30 [==============================] - 32s 1s/step - loss: 0.0225 - acc: 0.9949 - val_loss: 0.5229 - val_acc: 0.8719\n",
      "Epoch 16/20\n",
      "30/30 [==============================] - 32s 1s/step - loss: 0.0166 - acc: 0.9977 - val_loss: 0.5778 - val_acc: 0.8682\n",
      "Epoch 17/20\n",
      "30/30 [==============================] - 30s 1s/step - loss: 0.0145 - acc: 0.9979 - val_loss: 0.5894 - val_acc: 0.8696\n",
      "Epoch 18/20\n",
      "30/30 [==============================] - 31s 1s/step - loss: 0.0136 - acc: 0.9975 - val_loss: 0.6242 - val_acc: 0.8692\n",
      "Epoch 19/20\n",
      "30/30 [==============================] - 32s 1s/step - loss: 0.0066 - acc: 0.9998 - val_loss: 0.6569 - val_acc: 0.8679\n",
      "Epoch 20/20\n",
      "30/30 [==============================] - 30s 1s/step - loss: 0.0089 - acc: 0.9985 - val_loss: 0.6960 - val_acc: 0.8651\n"
     ]
    }
   ],
   "source": [
    "history = model.fit(partial_x_train,\n",
    "                    partial_y_train,\n",
    "                    epochs=20,\n",
    "                    batch_size=512,\n",
    "                    validation_data=(x_val, y_val))"
   ]
  },
  {
   "cell_type": "code",
   "execution_count": 27,
   "id": "4f959e82-ca44-4a2e-a13a-0024dedcbf44",
   "metadata": {},
   "outputs": [
    {
     "data": {
      "text/plain": [
       "dict_keys(['loss', 'acc', 'val_loss', 'val_acc'])"
      ]
     },
     "execution_count": 27,
     "metadata": {},
     "output_type": "execute_result"
    }
   ],
   "source": [
    "history_dict = history.history\n",
    "history_dict.keys()"
   ]
  },
  {
   "cell_type": "code",
   "execution_count": 30,
   "id": "c4ce4b67-4007-46c0-ae4b-40d53b692da4",
   "metadata": {},
   "outputs": [
    {
     "data": {
      "image/png": "[encoded data removed]",
      "text/plain": [
       "<Figure size 432x288 with 1 Axes>"
      ]
     },
     "metadata": {
      "needs_background": "light"
     },
     "output_type": "display_data"
    }
   ],
   "source": [
    "import matplotlib.pyplot as plt\n",
    "\n",
    "acc = history.history['acc']\n",
    "val_acc = history.history['val_acc']\n",
    "loss = history.history['loss']\n",
    "val_loss = history.history['val_loss']\n",
    "\n",
    "epochs = range(1, len(acc) + 1)\n",
    "\n",
    "plt.plot(epochs, loss, 'bo', label=\"Train loss\")\n",
    "plt.plot(epochs, val_loss, 'b', label=\"Validation loss\")\n",
    "plt.title(\"Train and validation loss\")\n",
    "plt.xlabel('Epochs')\n",
    "plt.ylabel('Loss')\n",
    "plt.legend()\n",
    "\n",
    "plt.show()"
   ]
  },
  {
   "cell_type": "code",
   "execution_count": 31,
   "id": "264457da-f16c-4ca9-8221-a9f9dfb19de5",
   "metadata": {},
   "outputs": [
    {
     "data": {
      "image/png": "[encoded data removed]",
      "text/plain": [
       "<Figure size 432x288 with 1 Axes>"
      ]
     },
     "metadata": {
      "needs_background": "light"
     },
     "output_type": "display_data"
    }
   ],
   "source": [
    "plt.clf()\n",
    "\n",
    "acc_values = history_dict['acc']\n",
    "val_acc_values = history_dict['val_acc']\n",
    "\n",
    "plt.plot(epochs, acc, 'bo', label=\"Train accuracy\")\n",
    "plt.plot(epochs, val_acc, 'b', label=\"Validation accuracy\")\n",
    "plt.title(\"Train and validation accuracy\")\n",
    "plt.xlabel('Epochs')\n",
    "plt.ylabel('Accuracy')\n",
    "plt.legend()\n",
    "\n",
    "plt.show()"
   ]
  },
  {
   "cell_type": "markdown",
   "id": "0bdcfdaa-6966-439d-8afd-584c5cfac177",
   "metadata": {},
   "source": [
    "Model seems to be overfitted. After 2nd epoch it is optimized, and after that moment it's learning to fit well only training data.\n",
    "\n",
    "Let's do the training once again, only for 4 epochs."
   ]
  },
  {
   "cell_type": "code",
   "execution_count": 32,
   "id": "009e505b-7a54-4ad2-bf7a-d263fd1570cc",
   "metadata": {},
   "outputs": [
    {
     "name": "stdout",
     "output_type": "stream",
     "text": [
      "Epoch 1/4\n",
      "49/49 [==============================] - 9s 15ms/step - loss: 0.4405 - acc: 0.8265\n",
      "Epoch 2/4\n",
      "49/49 [==============================] - 1s 15ms/step - loss: 0.2560 - acc: 0.9102\n",
      "Epoch 3/4\n",
      "49/49 [==============================] - 1s 15ms/step - loss: 0.1988 - acc: 0.9278\n",
      "Epoch 4/4\n",
      "49/49 [==============================] - 1s 15ms/step - loss: 0.1662 - acc: 0.9403\n",
      "782/782 [==============================] - 33s 2ms/step - loss: 0.2969 - acc: 0.8834\n"
     ]
    }
   ],
   "source": [
    "model = models.Sequential()\n",
    "model.add(layers.Dense(16, activation='relu', input_shape=(10000,)))\n",
    "model.add(layers.Dense(16, activation='relu'))\n",
    "model.add(layers.Dense(1, activation='sigmoid'))\n",
    "\n",
    "model.compile(optimizer='rmsprop', loss='binary_crossentropy', metrics=['acc'])\n",
    "model.fit(x_train, y_train, epochs=4, batch_size=512)\n",
    "results = model.evaluate(x_test, y_test)"
   ]
  },
  {
   "cell_type": "code",
   "execution_count": 33,
   "id": "5756e4da-2701-447f-beca-b67b71a9bce9",
   "metadata": {},
   "outputs": [
    {
     "data": {
      "text/plain": [
       "[0.29687416553497314, 0.8833600282669067]"
      ]
     },
     "execution_count": 33,
     "metadata": {},
     "output_type": "execute_result"
    }
   ],
   "source": [
    "results"
   ]
  },
  {
   "cell_type": "markdown",
   "id": "2f43e9ef-489f-45ec-9a47-1a905da021ef",
   "metadata": {},
   "source": [
    "So, with such naive solution, accuracy is 88%."
   ]
  },
  {
   "cell_type": "markdown",
   "id": "2f1018cf-d34a-4d3b-a25a-8bbc77df7c98",
   "metadata": {},
   "source": [
    "## Test model"
   ]
  },
  {
   "cell_type": "code",
   "execution_count": 34,
   "id": "ceac9728-0af0-45a5-982c-3480d5238cd0",
   "metadata": {},
   "outputs": [
    {
     "data": {
      "text/plain": [
       "array([[0.15581492],\n",
       "       [0.99961644],\n",
       "       [0.94996107],\n",
       "       ...,\n",
       "       [0.09984094],\n",
       "       [0.05154109],\n",
       "       [0.39286557]], dtype=float32)"
      ]
     },
     "execution_count": 34,
     "metadata": {},
     "output_type": "execute_result"
    }
   ],
   "source": [
    "model.predict(x_test)"
   ]
  },
  {
   "cell_type": "markdown",
   "id": "e67d7d7f-36af-4cda-8b5c-d2bb8f733601",
   "metadata": {},
   "source": [
    "## Summary\n",
    "- Data needs preprocessing - data samples -> tensors\n",
    "- *Dense* layers with *ReLU* activation are common in usage\n",
    "- For binary classification, at the end of the model there should be a layer with *Sigmoid* activation method - so the output values will be in range <0, 1>\n",
    "- For probability output, loss method should be *binary cross-entropy*\n",
    "- Optimizer *RMSprop* is good anyway\n",
    "- While getting know better the input trianing data, NN may overfit it. So loss must be continously controlled"
   ]
  }
 ],
 "metadata": {
  "kernelspec": {
   "display_name": "Python 3 (ipykernel)",
   "language": "python",
   "name": "python3"
  },
  "language_info": {
   "codemirror_mode": {
    "name": "ipython",
    "version": 3
   },
   "file_extension": ".py",
   "mimetype": "text/x-python",
   "name": "python",
   "nbconvert_exporter": "python",
   "pygments_lexer": "ipython3",
   "version": "3.7.0"
  }
 },
 "nbformat": 4,
 "nbformat_minor": 5
}
