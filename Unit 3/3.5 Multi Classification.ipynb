{
 "cells": [
  {
   "cell_type": "markdown",
   "id": "27d9fad0-2a58-443f-a140-1d959a8e8f8b",
   "metadata": {},
   "source": [
    "# 3.5 - Multi-class classification\n",
    "Reuters dataset subjects classification. Every data sample can be assigned to only one category. There are 46 independent subjects. Task is conclusive.\n",
    "\n",
    "## Load data"
   ]
  },
  {
   "cell_type": "code",
   "execution_count": 1,
   "id": "6462637e-e102-49d2-91f1-3c376a9e9280",
   "metadata": {},
   "outputs": [
    {
     "name": "stdout",
     "output_type": "stream",
     "text": [
      "Downloading data from https://storage.googleapis.com/tensorflow/tf-keras-datasets/reuters.npz\n",
      "2113536/2110848 [==============================] - 0s 0us/step\n",
      "2121728/2110848 [==============================] - 0s 0us/step\n"
     ]
    }
   ],
   "source": [
    "from keras.datasets import reuters\n",
    "\n",
    "(train_data, train_labels), (test_data, test_labels) = reuters.load_data(num_words=10000)"
   ]
  },
  {
   "cell_type": "code",
   "execution_count": 2,
   "id": "a03ab309-a707-46b7-8a6d-12d6f4839310",
   "metadata": {},
   "outputs": [
    {
     "data": {
      "text/plain": [
       "8982"
      ]
     },
     "execution_count": 2,
     "metadata": {},
     "output_type": "execute_result"
    }
   ],
   "source": [
    "len(train_data)"
   ]
  },
  {
   "cell_type": "code",
   "execution_count": 3,
   "id": "3eebe5ed-5149-4220-a8c1-34d7687575ed",
   "metadata": {},
   "outputs": [
    {
     "data": {
      "text/plain": [
       "2246"
      ]
     },
     "execution_count": 3,
     "metadata": {},
     "output_type": "execute_result"
    }
   ],
   "source": [
    "len(test_data)"
   ]
  },
  {
   "cell_type": "code",
   "execution_count": 6,
   "id": "c7ed4d48-4d9d-4f29-83cc-ec700e8e835c",
   "metadata": {},
   "outputs": [
    {
     "data": {
      "text/plain": [
       "[1, 245, 273, 207, 156, 53, 74, 160, 26, 14]"
      ]
     },
     "execution_count": 6,
     "metadata": {},
     "output_type": "execute_result"
    }
   ],
   "source": [
    "train_data[10][:10]"
   ]
  },
  {
   "cell_type": "code",
   "execution_count": 9,
   "id": "05a051ee-568c-49d9-9fa4-b959e0eb62b9",
   "metadata": {},
   "outputs": [],
   "source": [
    "word_index = reuters.get_word_index()\n",
    "reverse_word_index = dict([(value, key) for (key, value) in word_index.items()])\n",
    "decoded_newswire=' '.join([reverse_word_index.get(i-3, '?') for i in train_data[0]])"
   ]
  },
  {
   "cell_type": "code",
   "execution_count": 10,
   "id": "985f4e61-5ed2-4e08-b76c-7aecdeb2c8d1",
   "metadata": {},
   "outputs": [
    {
     "data": {
      "text/plain": [
       "'? ? ? said as a result of its december acquisition of space co it expects earnings per share in 1987 of 1 15 to 1 30 dlrs per share up from 70 cts in 1986 the company said pretax net should rise to nine to 10 mln dlrs from six mln dlrs in 1986 and rental operation revenues to 19 to 22 mln dlrs from 12 5 mln dlrs it said cash flow per share this year should be 2 50 to three dlrs reuter 3'"
      ]
     },
     "execution_count": 10,
     "metadata": {},
     "output_type": "execute_result"
    }
   ],
   "source": [
    "decoded_newswire"
   ]
  },
  {
   "cell_type": "markdown",
   "id": "f9179fa7-efaf-4006-af99-30f7976fc72b",
   "metadata": {},
   "source": [
    "## Prepare data\n",
    "Vectorize data"
   ]
  },
  {
   "cell_type": "code",
   "execution_count": 11,
   "id": "ef7af63e-db35-44da-8b69-3a8f47736ea9",
   "metadata": {},
   "outputs": [],
   "source": [
    "import numpy as np\n",
    "\n",
    "def vectorize_sequences(sequences, dimension=10000):\n",
    "    results = np.zeros((len(sequences), dimension))\n",
    "    for i, sequence in enumerate(sequences):\n",
    "        results[i, sequence] = 1\n",
    "    return results\n",
    "\n",
    "x_train = vectorize_sequences(train_data)\n",
    "x_test = vectorize_sequences(test_data)"
   ]
  },
  {
   "cell_type": "code",
   "execution_count": 12,
   "id": "c9301fb2-38a3-4b42-9939-073efddc28fa",
   "metadata": {},
   "outputs": [],
   "source": [
    "def to_one_hot(labels, dimension=46):\n",
    "    results = np.zeros((len(labels), dimension))\n",
    "    for i, label in enumerate(labels):\n",
    "        results[i, label] = 1.\n",
    "    return results"
   ]
  },
  {
   "cell_type": "code",
   "execution_count": 13,
   "id": "8b612940-90f1-4345-9f61-9c34dba3d4eb",
   "metadata": {},
   "outputs": [],
   "source": [
    "one_hot_train_labels = to_one_hot(train_labels)\n",
    "one_hot_test_labels = to_one_hot(test_labels)"
   ]
  },
  {
   "cell_type": "code",
   "execution_count": 14,
   "id": "ec9bbaf2-1385-400f-a3d0-5c3a61b90db1",
   "metadata": {},
   "outputs": [],
   "source": [
    "# built in Keras to_one_hot:\n",
    "from keras.utils.np_utils import to_categorical\n",
    "\n",
    "one_hot_train_labels = to_categorical(train_labels)\n",
    "one_hot_test_labels = to_categorical(test_labels)"
   ]
  },
  {
   "cell_type": "markdown",
   "id": "6ec9a3e6-f73e-41ce-94f1-2461f7c0d5a6",
   "metadata": {},
   "source": [
    "## NN model\n",
    "In this case, we have more than 2 output classes. So output space needs to have much more dimensions that in binary classification.\n",
    "\n",
    "To avoid loosing some information, we're gonna extend layers size, so instead previous 16, know we will have 64 dimensions."
   ]
  },
  {
   "cell_type": "code",
   "execution_count": 15,
   "id": "55e99d8c-f9e4-4d28-bfe6-7145a0462cda",
   "metadata": {},
   "outputs": [],
   "source": [
    "from keras import models\n",
    "from keras import layers\n",
    "\n",
    "model = models.Sequential()\n",
    "model.add(layers.Dense(64, activation='relu', input_shape=(10000,)))\n",
    "model.add(layers.Dense(64, activation='relu'))\n",
    "model.add(layers.Dense(46, activation='softmax'))"
   ]
  },
  {
   "cell_type": "markdown",
   "id": "304989e2-e30e-4b4b-90d1-2eabd59c5e21",
   "metadata": {},
   "source": [
    "- Network has *Dense* layer with size 46 - expected class number. So each data sample will generate 46-dim vector of probabilities. Each element will corespond to the another class.\n",
    "- *Softmax* activation method is for generating probability distribution for 46 different classes. All values in each prediction vector sums to 1.\n",
    "\n",
    "To calculate loss value for multi-class values, we need to use *categorical cross-entropy*. It calculates distance between distribution of real and predicted probabilities."
   ]
  },
  {
   "cell_type": "code",
   "execution_count": 16,
   "id": "6c396d3d-61f9-47cc-8e52-c15a52b92366",
   "metadata": {},
   "outputs": [],
   "source": [
    "model.compile(optimizer='rmsprop',\n",
    "              loss='categorical_crossentropy',\n",
    "              metrics=['accuracy'])"
   ]
  },
  {
   "cell_type": "markdown",
   "id": "f82f02a9-732a-4eb6-9086-9dca24ac612b",
   "metadata": {},
   "source": [
    "## Train & validate model"
   ]
  },
  {
   "cell_type": "code",
   "execution_count": 17,
   "id": "c5c247ae-a118-48cc-a40c-54aa6ba8dab7",
   "metadata": {},
   "outputs": [],
   "source": [
    "x_val = x_train[:1000]\n",
    "partial_x_train = x_train[1000:]\n",
    "\n",
    "y_val = one_hot_train_labels[:1000]\n",
    "partial_y_train = one_hot_train_labels[1000:]"
   ]
  },
  {
   "cell_type": "code",
   "execution_count": 19,
   "id": "94687887-1abd-4176-bf53-6eedd96047f9",
   "metadata": {},
   "outputs": [
    {
     "name": "stdout",
     "output_type": "stream",
     "text": [
      "Epoch 1/20\n",
      "16/16 [==============================] - 1s 52ms/step - loss: 2.6103 - accuracy: 0.5353 - val_loss: 1.6992 - val_accuracy: 0.6670\n",
      "Epoch 2/20\n",
      "16/16 [==============================] - 1s 68ms/step - loss: 1.3909 - accuracy: 0.7199 - val_loss: 1.2980 - val_accuracy: 0.7290\n",
      "Epoch 3/20\n",
      "16/16 [==============================] - 1s 75ms/step - loss: 1.0424 - accuracy: 0.7833 - val_loss: 1.1467 - val_accuracy: 0.7510\n",
      "Epoch 4/20\n",
      "16/16 [==============================] - 1s 52ms/step - loss: 0.8184 - accuracy: 0.8281 - val_loss: 1.0391 - val_accuracy: 0.7850\n",
      "Epoch 5/20\n",
      "16/16 [==============================] - 1s 35ms/step - loss: 0.6533 - accuracy: 0.8643 - val_loss: 0.9666 - val_accuracy: 0.7980\n",
      "Epoch 6/20\n",
      "16/16 [==============================] - 1s 36ms/step - loss: 0.5219 - accuracy: 0.8911 - val_loss: 0.9657 - val_accuracy: 0.7950\n",
      "Epoch 7/20\n",
      "16/16 [==============================] - 1s 37ms/step - loss: 0.4226 - accuracy: 0.9104 - val_loss: 0.9127 - val_accuracy: 0.8100\n",
      "Epoch 8/20\n",
      "16/16 [==============================] - 1s 36ms/step - loss: 0.3437 - accuracy: 0.9272 - val_loss: 0.9071 - val_accuracy: 0.8120\n",
      "Epoch 9/20\n",
      "16/16 [==============================] - 1s 36ms/step - loss: 0.2820 - accuracy: 0.9395 - val_loss: 0.8930 - val_accuracy: 0.8180\n",
      "Epoch 10/20\n",
      "16/16 [==============================] - 1s 37ms/step - loss: 0.2429 - accuracy: 0.9426 - val_loss: 0.9095 - val_accuracy: 0.8100\n",
      "Epoch 11/20\n",
      "16/16 [==============================] - 1s 37ms/step - loss: 0.2109 - accuracy: 0.9488 - val_loss: 0.9618 - val_accuracy: 0.8080\n",
      "Epoch 12/20\n",
      "16/16 [==============================] - 1s 39ms/step - loss: 0.1878 - accuracy: 0.9509 - val_loss: 0.9731 - val_accuracy: 0.8160\n",
      "Epoch 13/20\n",
      "16/16 [==============================] - 1s 40ms/step - loss: 0.1656 - accuracy: 0.9557 - val_loss: 0.9541 - val_accuracy: 0.8110\n",
      "Epoch 14/20\n",
      "16/16 [==============================] - 1s 37ms/step - loss: 0.1523 - accuracy: 0.9555 - val_loss: 0.9923 - val_accuracy: 0.8140\n",
      "Epoch 15/20\n",
      "16/16 [==============================] - 1s 36ms/step - loss: 0.1413 - accuracy: 0.9570 - val_loss: 0.9979 - val_accuracy: 0.8190\n",
      "Epoch 16/20\n",
      "16/16 [==============================] - 1s 35ms/step - loss: 0.1347 - accuracy: 0.9557 - val_loss: 1.0010 - val_accuracy: 0.8050\n",
      "Epoch 17/20\n",
      "16/16 [==============================] - 1s 38ms/step - loss: 0.1296 - accuracy: 0.9580 - val_loss: 1.0312 - val_accuracy: 0.8060\n",
      "Epoch 18/20\n",
      "16/16 [==============================] - 1s 37ms/step - loss: 0.1270 - accuracy: 0.9583 - val_loss: 1.0210 - val_accuracy: 0.7970\n",
      "Epoch 19/20\n",
      "16/16 [==============================] - 1s 39ms/step - loss: 0.1163 - accuracy: 0.9575 - val_loss: 1.0470 - val_accuracy: 0.8120\n",
      "Epoch 20/20\n",
      "16/16 [==============================] - 1s 35ms/step - loss: 0.1192 - accuracy: 0.9570 - val_loss: 1.0699 - val_accuracy: 0.8080\n"
     ]
    }
   ],
   "source": [
    "history = model.fit(partial_x_train,\n",
    "                    partial_y_train,\n",
    "                    epochs=20,\n",
    "                    batch_size=512,\n",
    "                    validation_data=(x_val, y_val))"
   ]
  },
  {
   "cell_type": "code",
   "execution_count": 21,
   "id": "926aa7f8-138f-4f91-a15a-1a96f18aef2f",
   "metadata": {},
   "outputs": [
    {
     "data": {
      "image/png": "[encoded data removed]",
      "text/plain": [
       "<Figure size 432x288 with 1 Axes>"
      ]
     },
     "metadata": {
      "needs_background": "light"
     },
     "output_type": "display_data"
    }
   ],
   "source": [
    "import matplotlib.pyplot as plt\n",
    "\n",
    "loss = history.history['loss']\n",
    "val_loss = history.history['val_loss']\n",
    "\n",
    "epochs = range(1, len(loss) + 1)\n",
    "\n",
    "plt.plot(epochs, loss, 'bo', label=\"Train loss\")\n",
    "plt.plot(epochs, val_loss, 'b', label=\"Validation loss\")\n",
    "plt.title(\"Train and validation loss\")\n",
    "plt.xlabel('Epochs')\n",
    "plt.ylabel('Loss')\n",
    "plt.legend()\n",
    "\n",
    "plt.show()"
   ]
  },
  {
   "cell_type": "code",
   "execution_count": 26,
   "id": "d4ea39be-c071-4cf1-92e1-3563417bb9fc",
   "metadata": {},
   "outputs": [
    {
     "data": {
      "image/png": "[encoded data removed]",
      "text/plain": [
       "<Figure size 432x288 with 1 Axes>"
      ]
     },
     "metadata": {
      "needs_background": "light"
     },
     "output_type": "display_data"
    }
   ],
   "source": [
    "plt.clf()\n",
    "\n",
    "acc = history.history['accuracy']\n",
    "val_acc = history.history['val_accuracy']\n",
    "\n",
    "plt.plot(epochs, acc, 'bo', label=\"Train accuracy\")\n",
    "plt.plot(epochs, val_acc, 'b', label=\"Validation accuracy\")\n",
    "plt.title(\"Train and validation accuracy\")\n",
    "plt.xlabel('Epochs')\n",
    "plt.ylabel('Accuracy')\n",
    "plt.legend()\n",
    "\n",
    "plt.show()"
   ]
  },
  {
   "cell_type": "markdown",
   "id": "158c26d3-5fb7-4802-bdd6-cc05ff5cb59a",
   "metadata": {},
   "source": [
    "After 9 epochs overfitting is starting. Let's try running training for only 9 epochs."
   ]
  },
  {
   "cell_type": "code",
   "execution_count": 27,
   "id": "b68fb2a3-40c1-43b7-9ff5-61e265fe122f",
   "metadata": {},
   "outputs": [
    {
     "name": "stdout",
     "output_type": "stream",
     "text": [
      "Epoch 1/8\n",
      "16/16 [==============================] - 1s 30ms/step - loss: 2.6019 - accuracy: 0.5254 - val_loss: 1.6988 - val_accuracy: 0.6400\n",
      "Epoch 2/8\n",
      "16/16 [==============================] - 0s 24ms/step - loss: 1.3863 - accuracy: 0.7093 - val_loss: 1.3157 - val_accuracy: 0.7130\n",
      "Epoch 3/8\n",
      "16/16 [==============================] - 0s 24ms/step - loss: 1.0292 - accuracy: 0.7786 - val_loss: 1.1266 - val_accuracy: 0.7670\n",
      "Epoch 4/8\n",
      "16/16 [==============================] - 0s 24ms/step - loss: 0.8094 - accuracy: 0.8281 - val_loss: 1.0529 - val_accuracy: 0.7630\n",
      "Epoch 5/8\n",
      "16/16 [==============================] - 0s 31ms/step - loss: 0.6445 - accuracy: 0.8623 - val_loss: 1.0017 - val_accuracy: 0.7870\n",
      "Epoch 6/8\n",
      "16/16 [==============================] - 1s 34ms/step - loss: 0.5179 - accuracy: 0.8890 - val_loss: 0.9467 - val_accuracy: 0.8000\n",
      "Epoch 7/8\n",
      "16/16 [==============================] - 1s 35ms/step - loss: 0.4186 - accuracy: 0.9128 - val_loss: 0.9385 - val_accuracy: 0.7970\n",
      "Epoch 8/8\n",
      "16/16 [==============================] - 1s 35ms/step - loss: 0.3426 - accuracy: 0.9260 - val_loss: 0.9466 - val_accuracy: 0.7980\n",
      "71/71 [==============================] - 0s 3ms/step - loss: 1.0027 - accuracy: 0.7814\n"
     ]
    }
   ],
   "source": [
    "model = models.Sequential()\n",
    "model.add(layers.Dense(64, activation='relu', input_shape=(10000,)))\n",
    "model.add(layers.Dense(64, activation='relu'))\n",
    "model.add(layers.Dense(46, activation='softmax'))\n",
    "\n",
    "model.compile(optimizer='rmsprop', loss='categorical_crossentropy', metrics=['accuracy'])\n",
    "model.fit(partial_x_train, partial_y_train, epochs=8, batch_size=512, validation_data=(x_val, y_val))\n",
    "results = model.evaluate(x_test, one_hot_test_labels)"
   ]
  },
  {
   "cell_type": "code",
   "execution_count": 28,
   "id": "e6415c08-d040-47b0-9887-9cf947202b32",
   "metadata": {},
   "outputs": [
    {
     "data": {
      "text/plain": [
       "[1.002670168876648, 0.7813891172409058]"
      ]
     },
     "execution_count": 28,
     "metadata": {},
     "output_type": "execute_result"
    }
   ],
   "source": [
    "results"
   ]
  },
  {
   "cell_type": "markdown",
   "id": "4c987e55-9cad-419b-a823-df4b3bbafa1d",
   "metadata": {},
   "source": [
    "## Predict data"
   ]
  },
  {
   "cell_type": "code",
   "execution_count": 29,
   "id": "b4659e39-d52a-4173-a8bb-fd3d3001822d",
   "metadata": {},
   "outputs": [],
   "source": [
    "predictions = model.predict(x_test)"
   ]
  },
  {
   "cell_type": "code",
   "execution_count": 35,
   "id": "b35f17a6-c881-4c73-8e00-018101e7d8f4",
   "metadata": {},
   "outputs": [
    {
     "name": "stdout",
     "output_type": "stream",
     "text": [
      "Example prediction sample:\n",
      "\tId: 33\n",
      "\tShape: (46,)\n",
      "\tClass: 3\n"
     ]
    }
   ],
   "source": [
    "index = 33\n",
    "print(\"Example prediction sample:\\n\\tId: {}\\n\\tShape: {}\\n\\tClass: {}\".format(index, predictions[index].shape, np.argmax(predictions[index])))"
   ]
  },
  {
   "cell_type": "markdown",
   "id": "f47dd275-b004-41f3-87a9-1fcc22976c85",
   "metadata": {},
   "source": [
    "## Summary\n",
    "- For *N* classes predicting, model needs to have last layer with size *N*\n",
    "- For multi classes conclusive labels, we use *Softmax* activation method to predict\n",
    "- For multi classes we use *categorical cross-entropy*\n",
    "- We can use multi classes labels in 2 different ways:\n",
    "    - code labels into *one_hot* labels and use *categorical cross-entropy*,\n",
    "    - use labels as numbers and use *sparse categorical cross-entropy*\n",
    "- While predicting many classes, hidden layers shouldn't contain *botlle necks* - dimension of layer should be higher than output labels number"
   ]
  }
 ],
 "metadata": {
  "kernelspec": {
   "display_name": "Python 3 (ipykernel)",
   "language": "python",
   "name": "python3"
  },
  "language_info": {
   "codemirror_mode": {
    "name": "ipython",
    "version": 3
   },
   "file_extension": ".py",
   "mimetype": "text/x-python",
   "name": "python",
   "nbconvert_exporter": "python",
   "pygments_lexer": "ipython3",
   "version": "3.7.0"
  }
 },
 "nbformat": 4,
 "nbformat_minor": 5
}
