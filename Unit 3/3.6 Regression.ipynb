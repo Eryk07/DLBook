{
 "cells": [
  {
   "cell_type": "markdown",
   "id": "e76ae32d-cc23-4ac7-bc75-231b606fbd19",
   "metadata": {},
   "source": [
    "# 3.6 Regression\n",
    "Boston housing prices estimation.\n",
    "\n",
    "## Load data"
   ]
  },
  {
   "cell_type": "code",
   "execution_count": 1,
   "id": "b2d6723f-237d-4939-919d-409077a5195f",
   "metadata": {},
   "outputs": [
    {
     "name": "stdout",
     "output_type": "stream",
     "text": [
      "Downloading data from https://storage.googleapis.com/tensorflow/tf-keras-datasets/boston_housing.npz\n",
      "57344/57026 [==============================] - 0s 0us/step\n",
      "65536/57026 [==================================] - 0s 0us/step\n"
     ]
    }
   ],
   "source": [
    "from keras.datasets import boston_housing\n",
    "\n",
    "(train_data, train_targets), (test_data, test_targets) = boston_housing.load_data()"
   ]
  },
  {
   "cell_type": "code",
   "execution_count": 2,
   "id": "5f278cbb-428b-4648-94b1-b4a197c3c17e",
   "metadata": {},
   "outputs": [
    {
     "data": {
      "text/plain": [
       "(404, 13)"
      ]
     },
     "execution_count": 2,
     "metadata": {},
     "output_type": "execute_result"
    }
   ],
   "source": [
    "train_data.shape"
   ]
  },
  {
   "cell_type": "code",
   "execution_count": 3,
   "id": "0edaa3f9-3af2-4ad4-bb10-fe5b1117797f",
   "metadata": {},
   "outputs": [
    {
     "data": {
      "text/plain": [
       "(102, 13)"
      ]
     },
     "execution_count": 3,
     "metadata": {},
     "output_type": "execute_result"
    }
   ],
   "source": [
    "test_data.shape"
   ]
  },
  {
   "cell_type": "code",
   "execution_count": 8,
   "id": "13ec6650-c0b5-46be-9e20-cd1a33a4cd7a",
   "metadata": {},
   "outputs": [
    {
     "data": {
      "text/plain": [
       "array([  1.05393,   0.     ,   8.14   ,   0.     ,   0.538  ,   5.935  ,\n",
       "        29.3    ,   4.4986 ,   4.     , 307.     ,  21.     , 386.85   ,\n",
       "         6.58   ])"
      ]
     },
     "execution_count": 8,
     "metadata": {},
     "output_type": "execute_result"
    }
   ],
   "source": [
    "train_data[33]"
   ]
  },
  {
   "cell_type": "code",
   "execution_count": 5,
   "id": "76915f53-428d-49dc-b21e-8faad8db9c54",
   "metadata": {},
   "outputs": [
    {
     "data": {
      "text/plain": [
       "array([15.2, 42.3, 50. , 21.1, 17.7, 18.5, 11.3, 15.6, 15.6, 14.4])"
      ]
     },
     "execution_count": 5,
     "metadata": {},
     "output_type": "execute_result"
    }
   ],
   "source": [
    "train_targets[:10]"
   ]
  },
  {
   "cell_type": "code",
   "execution_count": 6,
   "id": "0fde6dc0-535a-4321-9233-8b67864b2eda",
   "metadata": {},
   "outputs": [
    {
     "data": {
      "text/plain": [
       "50.0"
      ]
     },
     "execution_count": 6,
     "metadata": {},
     "output_type": "execute_result"
    }
   ],
   "source": [
    "train_targets.max()"
   ]
  },
  {
   "cell_type": "code",
   "execution_count": 7,
   "id": "3b8d304c-5471-432c-a768-d58c507e0a36",
   "metadata": {},
   "outputs": [
    {
     "data": {
      "text/plain": [
       "5.0"
      ]
     },
     "execution_count": 7,
     "metadata": {},
     "output_type": "execute_result"
    }
   ],
   "source": [
    "train_targets.min()"
   ]
  },
  {
   "cell_type": "markdown",
   "id": "30c55372-f77b-4022-9f55-20dc6e722268",
   "metadata": {},
   "source": [
    "## Prepare data\n",
    "Every sample contains 13 factors which are values from different ranges. Due to this fact, we need to perform standardization of each factor."
   ]
  },
  {
   "cell_type": "code",
   "execution_count": 9,
   "id": "d4abaf1f-470c-4d32-9468-7e22cb9cc6ad",
   "metadata": {},
   "outputs": [],
   "source": [
    "mean = train_data.mean(axis=0)\n",
    "train_data -= mean\n",
    "std = train_data.std(axis=0)\n",
    "train_data /= std\n",
    "\n",
    "# standardize with same values as in the training dataset\n",
    "test_data -= mean\n",
    "test_data /= std"
   ]
  },
  {
   "cell_type": "code",
   "execution_count": 10,
   "id": "21f8f554-bddf-421f-9be2-04b5450fc669",
   "metadata": {},
   "outputs": [
    {
     "data": {
      "text/plain": [
       "array([-0.29159127, -0.48361547, -0.43576161, -0.25683275, -0.1652266 ,\n",
       "       -0.46844074, -1.4230113 ,  0.37398482, -0.62624905, -0.59517003,\n",
       "        1.14850044,  0.3411561 , -0.85028847])"
      ]
     },
     "execution_count": 10,
     "metadata": {},
     "output_type": "execute_result"
    }
   ],
   "source": [
    "train_data[33]"
   ]
  },
  {
   "cell_type": "markdown",
   "id": "67c49d58-a607-4b3e-a38a-9fd061b55728",
   "metadata": {},
   "source": [
    "## Prepare model\n",
    "For such small dataset, with only 404 training data samples, we need to prepare small NN model, to avoid overfitting."
   ]
  },
  {
   "cell_type": "code",
   "execution_count": 11,
   "id": "2ab88b60-7993-4faa-8405-6175be276e4f",
   "metadata": {},
   "outputs": [],
   "source": [
    "from keras import models\n",
    "from keras import layers\n",
    "\n",
    "def build_model():\n",
    "    model = models.Sequential()\n",
    "    model.add(layers.Dense(64, activation='relu',\n",
    "                           input_shape=(train_data.shape[1],)))\n",
    "    model.add(layers.Dense(64, activation='relu'))\n",
    "    model.add(layers.Dense(1))\n",
    "    model.compile(optimizer='rmsprop', loss='mse', metrics=['mae'])\n",
    "    return model"
   ]
  },
  {
   "cell_type": "markdown",
   "id": "635b1e39-7f3e-42fe-8674-29917a58f138",
   "metadata": {},
   "source": [
    "As we need to estimate exact price value, our output data layer needs to be simple linear unit. We cannot use the *sigmoid* activation method, because it would result in values in range <0, 1>.\n",
    "\n",
    "We are using *MSE* - mean square error - as a loss function - it is common method for the regression purpose.\n",
    "\n",
    "For the accuracy tracking, used metric is the *MAE* - mean absolute error. It is a mean absolute difference between real and predicted value."
   ]
  },
  {
   "cell_type": "markdown",
   "id": "1e10094e-6686-434f-b14a-7984a422f44e",
   "metadata": {},
   "source": [
    "## Train with *K cross-validation*\n",
    "For small datasets, to judge the model corectness, we can perform *K cross-validation* method. It handles the small size of the dataset with changing the validation part of the training dataset.\n",
    "\n",
    "For example, if *K* is 4, we divide training dataset into 4 smaller parts, and train model 4 times by each time using another part as a validation set."
   ]
  },
  {
   "cell_type": "code",
   "execution_count": 12,
   "id": "29eddabf-0ee9-4f8a-81eb-c379ce33370a",
   "metadata": {},
   "outputs": [
    {
     "name": "stdout",
     "output_type": "stream",
     "text": [
      "processing fold # 0\n",
      "processing fold # 1\n",
      "processing fold # 2\n",
      "processing fold # 3\n"
     ]
    }
   ],
   "source": [
    "import numpy as np\n",
    "\n",
    "k = 4\n",
    "num_val_samples = len(train_data) // k\n",
    "num_epochs = 100\n",
    "all_scores = []\n",
    "for i in range(k):\n",
    "    print('processing fold #', i)\n",
    "    val_data = train_data[i * num_val_samples: (i + 1) * num_val_samples]\n",
    "    val_targets = train_targets[i * num_val_samples: (i + 1) * num_val_samples]\n",
    "    \n",
    "    partial_train_data = np.concatenate(\n",
    "        [train_data[:i * num_val_samples],\n",
    "         train_data[(i + 1) * num_val_samples:]],\n",
    "        axis=0)\n",
    "    partial_train_targets = np.concatenate(\n",
    "        [train_targets[:i * num_val_samples],\n",
    "         train_targets[(i + 1) * num_val_samples:]],\n",
    "        axis=0)\n",
    "    \n",
    "    model = build_model()\n",
    "    model.fit(partial_train_data, partial_train_targets,\n",
    "              epochs=num_epochs, batch_size=1, verbose=0)\n",
    "    \n",
    "    val_mse, val_mae = model.evaluate(val_data, val_targets, verbose=0)\n",
    "    all_scores.append(val_mae)"
   ]
  },
  {
   "cell_type": "code",
   "execution_count": 13,
   "id": "6c824f7a-c788-4379-81e6-42750c59929b",
   "metadata": {},
   "outputs": [
    {
     "data": {
      "text/plain": [
       "[2.403747797012329, 2.3973946571350098, 2.757596969604492, 2.4257798194885254]"
      ]
     },
     "execution_count": 13,
     "metadata": {},
     "output_type": "execute_result"
    }
   ],
   "source": [
    "all_scores"
   ]
  },
  {
   "cell_type": "code",
   "execution_count": 14,
   "id": "00c5cf32-3d95-48a4-aaa1-fc9f0fee7ac7",
   "metadata": {},
   "outputs": [
    {
     "data": {
      "text/plain": [
       "2.496129810810089"
      ]
     },
     "execution_count": 14,
     "metadata": {},
     "output_type": "execute_result"
    }
   ],
   "source": [
    "np.mean(all_scores)"
   ]
  },
  {
   "cell_type": "markdown",
   "id": "fc6a6ca9-a6d4-4723-801b-a76ba33604fa",
   "metadata": {},
   "source": [
    "So we achieved mean absolute error = 2,5k USD. Let's try to train for 500 epochs, and visualize MAE during epochs."
   ]
  },
  {
   "cell_type": "code",
   "execution_count": 16,
   "id": "4b50d8ca-59a3-440b-9728-c430b68f74bd",
   "metadata": {},
   "outputs": [
    {
     "name": "stdout",
     "output_type": "stream",
     "text": [
      "processing fold # 0\n",
      "processing fold # 1\n",
      "processing fold # 2\n",
      "processing fold # 3\n"
     ]
    }
   ],
   "source": [
    "num_epochs = 500\n",
    "all_mae_histories = []\n",
    "for i in range(k):\n",
    "    print('processing fold #', i)\n",
    "    val_data = train_data[i * num_val_samples: (i + 1) * num_val_samples]\n",
    "    val_targets = train_targets[i * num_val_samples: (i + 1) * num_val_samples]\n",
    "    \n",
    "    partial_train_data = np.concatenate(\n",
    "        [train_data[:i * num_val_samples],\n",
    "         train_data[(i + 1) * num_val_samples:]],\n",
    "        axis=0)\n",
    "    partial_train_targets = np.concatenate(\n",
    "        [train_targets[:i * num_val_samples],\n",
    "         train_targets[(i + 1) * num_val_samples:]],\n",
    "        axis=0)\n",
    "    \n",
    "    model = build_model()\n",
    "    history = model.fit(partial_train_data, partial_train_targets,\n",
    "                        validation_data=(val_data, val_targets),\n",
    "                        epochs=num_epochs, batch_size=1, verbose=0)\n",
    "    mae_history = history.history['val_mae']\n",
    "    all_mae_histories.append(mae_history)"
   ]
  },
  {
   "cell_type": "code",
   "execution_count": 18,
   "id": "9656436c-c3fe-40e7-973e-bfd43ad0a6a9",
   "metadata": {},
   "outputs": [],
   "source": [
    "average_mae_history = [\n",
    "    np.mean([x[i] for x in all_mae_histories]) for i in range(num_epochs)]"
   ]
  },
  {
   "cell_type": "code",
   "execution_count": 19,
   "id": "060125b2-a52a-4ccb-befd-1f5c5be76dbc",
   "metadata": {},
   "outputs": [
    {
     "data": {
      "image/png": "[encoded data removed]",
      "text/plain": [
       "<Figure size 432x288 with 1 Axes>"
      ]
     },
     "metadata": {
      "needs_background": "light"
     },
     "output_type": "display_data"
    }
   ],
   "source": [
    "import matplotlib.pyplot as plt\n",
    "\n",
    "plt.plot(range(1, len(average_mae_history) + 1), average_mae_history)\n",
    "plt.xlabel('Epochs')\n",
    "plt.ylabel('Mean absolute error')\n",
    "plt.show()"
   ]
  },
  {
   "cell_type": "markdown",
   "id": "94e48393-f864-4698-b48c-d7de588f2f6e",
   "metadata": {},
   "source": [
    "Let's skip first 10 epochs and smooth curve with exponential averaging. "
   ]
  },
  {
   "cell_type": "code",
   "execution_count": 21,
   "id": "5766e29b-f496-43db-b907-5518c86c57de",
   "metadata": {},
   "outputs": [
    {
     "data": {
      "image/png": "[encoded data removed]",
      "text/plain": [
       "<Figure size 432x288 with 1 Axes>"
      ]
     },
     "metadata": {
      "needs_background": "light"
     },
     "output_type": "display_data"
    }
   ],
   "source": [
    "def smooth_curve(points, factor=0.9):\n",
    "    smoothed_points = []\n",
    "    for point in points:\n",
    "        if smoothed_points:\n",
    "            previous = smoothed_points[-1]\n",
    "            smoothed_points.append(previous * factor + point * (1 - factor))\n",
    "        else:\n",
    "            smoothed_points.append(point)\n",
    "    return smoothed_points\n",
    "\n",
    "smooth_mae_history = smooth_curve(average_mae_history[10:])\n",
    "\n",
    "plt.plot(range(1, len(smooth_mae_history) + 1), smooth_mae_history)\n",
    "plt.xlabel('Epochs')\n",
    "plt.ylabel('Mean absolute error')\n",
    "plt.show()"
   ]
  },
  {
   "cell_type": "code",
   "execution_count": 22,
   "id": "a2b35d71-60e5-4ad7-94bb-b4a196ba76a5",
   "metadata": {},
   "outputs": [
    {
     "name": "stdout",
     "output_type": "stream",
     "text": [
      "4/4 [==============================] - 0s 2ms/step - loss: 19.3907 - mae: 2.6645\n"
     ]
    },
    {
     "data": {
      "text/plain": [
       "2.6644980907440186"
      ]
     },
     "execution_count": 22,
     "metadata": {},
     "output_type": "execute_result"
    }
   ],
   "source": [
    "model = build_model()\n",
    "model.fit(train_data, train_targets,\n",
    "          epochs=80, batch_size=16, verbose=0)\n",
    "\n",
    "test_mse_score, test_mae_score = model.evaluate(test_data, test_targets)\n",
    "test_mae_score"
   ]
  },
  {
   "cell_type": "markdown",
   "id": "cf419d98-576d-468f-b135-cf99524fdf49",
   "metadata": {},
   "source": [
    "So predicted prices are biased by error around 2,7k USD."
   ]
  },
  {
   "cell_type": "markdown",
   "id": "d5e105cd-a74c-4a09-b9cb-3708ec815dbe",
   "metadata": {},
   "source": [
    "## Summary\n",
    "- Regression needs another loss function than classification. The common loss is *MSE*.\n",
    "- It requires another metrics as well. For example, it can be *MAE*.\n",
    "- If dataset factors are in different ranges, each factor should be normalized.\n",
    "- While using small dataset, evaluation of the model should be done with cross-validation.\n",
    "- If we use small dataset, model should be small as well."
   ]
  }
 ],
 "metadata": {
  "kernelspec": {
   "display_name": "Python 3 (ipykernel)",
   "language": "python",
   "name": "python3"
  },
  "language_info": {
   "codemirror_mode": {
    "name": "ipython",
    "version": 3
   },
   "file_extension": ".py",
   "mimetype": "text/x-python",
   "name": "python",
   "nbconvert_exporter": "python",
   "pygments_lexer": "ipython3",
   "version": "3.7.0"
  }
 },
 "nbformat": 4,
 "nbformat_minor": 5
}
