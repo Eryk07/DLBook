{
 "cells": [
  {
   "cell_type": "markdown",
   "id": "72f4b10f-68d6-4b33-a8e9-50bfdce90b70",
   "metadata": {},
   "source": [
    "# 5.2 CNN trained with small dataset\n",
    "In this notebook, we're gonna solve problem of classification dogs vs cats. Dataset has 4000 images, equal for both classes."
   ]
  },
  {
   "cell_type": "markdown",
   "id": "5b6b1124-efb7-4cec-bef7-78cc822a2dfe",
   "metadata": {},
   "source": [
    "## 5.2.2 Load *Dogs vs Cats* dataset\n",
    "We're gonna load it from Kaggle - it was challange in 2013."
   ]
  }
 ],
 "metadata": {
  "kernelspec": {
   "display_name": "Python 3 (ipykernel)",
   "language": "python",
   "name": "python3"
  },
  "language_info": {
   "codemirror_mode": {
    "name": "ipython",
    "version": 3
   },
   "file_extension": ".py",
   "mimetype": "text/x-python",
   "name": "python",
   "nbconvert_exporter": "python",
   "pygments_lexer": "ipython3",
   "version": "3.7.0"
  }
 },
 "nbformat": 4,
 "nbformat_minor": 5
}
