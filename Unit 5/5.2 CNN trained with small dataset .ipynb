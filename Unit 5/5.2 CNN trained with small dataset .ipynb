{
 "cells": [
  {
   "cell_type": "markdown",
   "id": "72f4b10f-68d6-4b33-a8e9-50bfdce90b70",
   "metadata": {},
   "source": [
    "# 5.2 CNN trained with small dataset\n",
    "In this notebook, we're gonna solve problem of classification dogs vs cats. Dataset has 4000 images, equal for both classes."
   ]
  },
  {
   "cell_type": "markdown",
   "id": "5b6b1124-efb7-4cec-bef7-78cc822a2dfe",
   "metadata": {},
   "source": [
    "## 5.2.2 Load *Dogs vs Cats* dataset\n",
    "We're gonna load it from Kaggle - it was challange in 2013."
   ]
  },
  {
   "cell_type": "code",
   "execution_count": 1,
   "id": "6264e618-b579-4544-a34b-bf1e4a1c5f2c",
   "metadata": {},
   "outputs": [],
   "source": [
    "import os, shutil"
   ]
  },
  {
   "cell_type": "code",
   "execution_count": 6,
   "id": "46c2b370-3851-42a9-8751-bb9de95ea25d",
   "metadata": {},
   "outputs": [],
   "source": [
    "original_dataset_dir = r\"..\\data\\Dogs vs Cats\\PetImages\"\n",
    "base_dir = r\"..\\data\\Dogs vs Cats\\NN Input\""
   ]
  },
  {
   "cell_type": "code",
   "execution_count": 5,
   "id": "f37353f5-0a07-40af-8a32-4ac43a002b10",
   "metadata": {},
   "outputs": [
    {
     "data": {
      "text/plain": [
       "True"
      ]
     },
     "execution_count": 5,
     "metadata": {},
     "output_type": "execute_result"
    }
   ],
   "source": [
    "os.path.exists(base_dir)"
   ]
  },
  {
   "cell_type": "code",
   "execution_count": 7,
   "id": "c2014294-ef79-437a-ba1d-a9925c89cc77",
   "metadata": {},
   "outputs": [],
   "source": [
    "train_dir = os.path.join(base_dir, 'train')\n",
    "os.mkdir(train_dir)\n",
    "test_dir = os.path.join(base_dir, 'test')\n",
    "os.mkdir(test_dir)\n",
    "val_dir = os.path.join(base_dir, 'validation')\n",
    "os.mkdir(val_dir)"
   ]
  },
  {
   "cell_type": "code",
   "execution_count": 8,
   "id": "dbdc659e-73fe-464e-a39f-2aac2859f61a",
   "metadata": {},
   "outputs": [],
   "source": [
    "def make_dir(parent_dir, name):\n",
    "    made_dir = os.path.join(parent_dir, name)\n",
    "    os.mkdir(made_dir)\n",
    "    return made_dir"
   ]
  },
  {
   "cell_type": "code",
   "execution_count": 11,
   "id": "b512cf1c-6e21-4d9e-a41a-bc7435b69e12",
   "metadata": {},
   "outputs": [],
   "source": [
    "train_cats_dir = make_dir(train_dir, 'cats')\n",
    "train_dogs_dir = make_dir(train_dir, 'dogs')\n",
    "\n",
    "val_cats_dir = make_dir(val_dir, 'cats')\n",
    "val_dogs_dir = make_dir(val_dir, 'dogs')\n",
    "\n",
    "test_cats_dir = make_dir(test_dir, 'cats')\n",
    "test_dogs_dir = make_dir(test_dir, 'dogs')"
   ]
  },
  {
   "cell_type": "code",
   "execution_count": 19,
   "id": "10aab9ac-89c9-4655-b5cc-63ee55b5a628",
   "metadata": {},
   "outputs": [],
   "source": [
    "def copy_data_to_split(dest_dir, label, ids=range(1000)):\n",
    "    fnames = ['{}.jpg'.format(i) for i in ids]\n",
    "    for fname in fnames:\n",
    "        src = os.path.join(original_dataset_dir + \"\\\\\" + label, fname)\n",
    "        dst = os.path.join(dest_dir, fname)\n",
    "        shutil.copyfile(src, dst)"
   ]
  },
  {
   "cell_type": "code",
   "execution_count": 20,
   "id": "842327bc-840b-4b06-a715-3862f03b4978",
   "metadata": {},
   "outputs": [],
   "source": [
    "copy_data_to_split(train_cats_dir, 'Cat')\n",
    "copy_data_to_split(train_dogs_dir, 'Dog')\n",
    "\n",
    "copy_data_to_split(val_cats_dir, 'Cat', range(1000, 1500))\n",
    "copy_data_to_split(val_dogs_dir, 'Dog', range(1000, 1500))\n",
    "\n",
    "copy_data_to_split(test_cats_dir, 'Cat', range(1500, 2000))\n",
    "copy_data_to_split(test_dogs_dir, 'Dog', range(1500, 2000))"
   ]
  },
  {
   "cell_type": "code",
   "execution_count": 21,
   "id": "a4cec934-bbdd-4acb-ae0d-3145c0f0684f",
   "metadata": {},
   "outputs": [
    {
     "name": "stdout",
     "output_type": "stream",
     "text": [
      "train cats: 1000\n"
     ]
    }
   ],
   "source": [
    "print('train cats:', len(os.listdir(train_cats_dir)))"
   ]
  },
  {
   "cell_type": "code",
   "execution_count": 22,
   "id": "faa95dea-8b46-480a-8838-f44ee0a4cbce",
   "metadata": {},
   "outputs": [
    {
     "name": "stdout",
     "output_type": "stream",
     "text": [
      "train dogs: 1000\n"
     ]
    }
   ],
   "source": [
    "print('train dogs:', len(os.listdir(train_dogs_dir)))"
   ]
  },
  {
   "cell_type": "markdown",
   "id": "d9052446-1876-4003-b677-918c58946b46",
   "metadata": {},
   "source": [
    "## 5.2.3 Prepare CNN"
   ]
  },
  {
   "cell_type": "code",
   "execution_count": 23,
   "id": "5a10d4bd-9cb0-4a5b-bfb9-995f7fe6885c",
   "metadata": {},
   "outputs": [],
   "source": [
    "from keras import layers\n",
    "from keras import models\n",
    "\n",
    "model = models.Sequential()"
   ]
  },
  {
   "cell_type": "code",
   "execution_count": 24,
   "id": "7fa78d99-fc24-4c30-85a0-89b1f0713798",
   "metadata": {},
   "outputs": [],
   "source": [
    "model.add(layers.Conv2D(32, (3, 3), activation='relu', input_shape=(150, 150, 3)))\n",
    "model.add(layers.MaxPooling2D((2, 2)))\n",
    "model.add(layers.Conv2D(64, (3, 3), activation='relu'))\n",
    "model.add(layers.MaxPooling2D((2, 2)))\n",
    "model.add(layers.Conv2D(128, (3, 3), activation='relu'))\n",
    "model.add(layers.MaxPooling2D((2, 2)))\n",
    "model.add(layers.Conv2D(128, (3, 3), activation='relu'))\n",
    "model.add(layers.MaxPooling2D((2, 2)))\n",
    "model.add(layers.Flatten())\n",
    "model.add(layers.Dense(512, activation='relu'))\n",
    "model.add(layers.Dense(1, activation='sigmoid'))"
   ]
  },
  {
   "cell_type": "code",
   "execution_count": 25,
   "id": "15185706-8694-4185-96ce-296d229bf29a",
   "metadata": {},
   "outputs": [
    {
     "name": "stdout",
     "output_type": "stream",
     "text": [
      "Model: \"sequential\"\n",
      "_________________________________________________________________\n",
      " Layer (type)                Output Shape              Param #   \n",
      "=================================================================\n",
      " conv2d (Conv2D)             (None, 148, 148, 32)      896       \n",
      "                                                                 \n",
      " max_pooling2d (MaxPooling2D  (None, 74, 74, 32)       0         \n",
      " )                                                               \n",
      "                                                                 \n",
      " conv2d_1 (Conv2D)           (None, 72, 72, 64)        18496     \n",
      "                                                                 \n",
      " max_pooling2d_1 (MaxPooling  (None, 36, 36, 64)       0         \n",
      " 2D)                                                             \n",
      "                                                                 \n",
      " conv2d_2 (Conv2D)           (None, 34, 34, 128)       73856     \n",
      "                                                                 \n",
      " max_pooling2d_2 (MaxPooling  (None, 17, 17, 128)      0         \n",
      " 2D)                                                             \n",
      "                                                                 \n",
      " conv2d_3 (Conv2D)           (None, 15, 15, 128)       147584    \n",
      "                                                                 \n",
      " max_pooling2d_3 (MaxPooling  (None, 7, 7, 128)        0         \n",
      " 2D)                                                             \n",
      "                                                                 \n",
      " flatten (Flatten)           (None, 6272)              0         \n",
      "                                                                 \n",
      " dense (Dense)               (None, 512)               3211776   \n",
      "                                                                 \n",
      " dense_1 (Dense)             (None, 1)                 513       \n",
      "                                                                 \n",
      "=================================================================\n",
      "Total params: 3,453,121\n",
      "Trainable params: 3,453,121\n",
      "Non-trainable params: 0\n",
      "_________________________________________________________________\n"
     ]
    }
   ],
   "source": [
    "model.summary()"
   ]
  },
  {
   "cell_type": "code",
   "execution_count": 28,
   "id": "36ee482d-012d-497b-96e8-3fbb1734ca5a",
   "metadata": {},
   "outputs": [],
   "source": [
    "from tensorflow.keras import optimizers\n",
    "\n",
    "model.compile(loss='binary_crossentropy',\n",
    "              optimizer=optimizers.RMSprop(learning_rate=1e-4),\n",
    "              metrics=['acc'])"
   ]
  },
  {
   "cell_type": "code",
   "execution_count": null,
   "id": "4c3a32f9-5805-4707-b3b5-b696f1cfba04",
   "metadata": {},
   "outputs": [],
   "source": []
  }
 ],
 "metadata": {
  "kernelspec": {
   "display_name": "Python 3 (ipykernel)",
   "language": "python",
   "name": "python3"
  },
  "language_info": {
   "codemirror_mode": {
    "name": "ipython",
    "version": 3
   },
   "file_extension": ".py",
   "mimetype": "text/x-python",
   "name": "python",
   "nbconvert_exporter": "python",
   "pygments_lexer": "ipython3",
   "version": "3.7.0"
  }
 },
 "nbformat": 4,
 "nbformat_minor": 5
}
