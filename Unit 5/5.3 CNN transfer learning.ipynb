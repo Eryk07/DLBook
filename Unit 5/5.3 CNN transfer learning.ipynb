{
 "cells": [
  {
   "cell_type": "markdown",
   "id": "3e9e966a-ce3a-49aa-aebd-5845d8d4cab7",
   "metadata": {},
   "source": [
    "# 5.3 CNN transfer learning"
   ]
  },
  {
   "cell_type": "markdown",
   "id": "863eccab-bda0-4f4f-8aa8-05758b2babe2",
   "metadata": {},
   "source": [
    "## 5.3.1 Features extraction"
   ]
  },
  {
   "cell_type": "code",
   "execution_count": 6,
   "id": "e0aab7f5-0c55-4edf-8045-bd5ccdaacd7a",
   "metadata": {},
   "outputs": [
    {
     "name": "stdout",
     "output_type": "stream",
     "text": [
      "Downloading data from https://storage.googleapis.com/tensorflow/keras-applications/vgg16/vgg16_weights_tf_dim_ordering_tf_kernels_notop.h5\n",
      "58892288/58889256 [==============================] - 3s 0us/step\n",
      "58900480/58889256 [==============================] - 3s 0us/step\n"
     ]
    }
   ],
   "source": [
    "from keras.applications.vgg16 import VGG16\n",
    "\n",
    "conv_base = VGG16(weights='imagenet',\n",
    "                  include_top=False,\n",
    "                  input_shape=(150, 150, 3))"
   ]
  },
  {
   "cell_type": "code",
   "execution_count": 8,
   "id": "25ede2e1-9ab9-444a-9069-c5eaa8dbdbc9",
   "metadata": {},
   "outputs": [
    {
     "name": "stdout",
     "output_type": "stream",
     "text": [
      "Model: \"vgg16\"\n",
      "_________________________________________________________________\n",
      " Layer (type)                Output Shape              Param #   \n",
      "=================================================================\n",
      " input_1 (InputLayer)        [(None, 150, 150, 3)]     0         \n",
      "                                                                 \n",
      " block1_conv1 (Conv2D)       (None, 150, 150, 64)      1792      \n",
      "                                                                 \n",
      " block1_conv2 (Conv2D)       (None, 150, 150, 64)      36928     \n",
      "                                                                 \n",
      " block1_pool (MaxPooling2D)  (None, 75, 75, 64)        0         \n",
      "                                                                 \n",
      " block2_conv1 (Conv2D)       (None, 75, 75, 128)       73856     \n",
      "                                                                 \n",
      " block2_conv2 (Conv2D)       (None, 75, 75, 128)       147584    \n",
      "                                                                 \n",
      " block2_pool (MaxPooling2D)  (None, 37, 37, 128)       0         \n",
      "                                                                 \n",
      " block3_conv1 (Conv2D)       (None, 37, 37, 256)       295168    \n",
      "                                                                 \n",
      " block3_conv2 (Conv2D)       (None, 37, 37, 256)       590080    \n",
      "                                                                 \n",
      " block3_conv3 (Conv2D)       (None, 37, 37, 256)       590080    \n",
      "                                                                 \n",
      " block3_pool (MaxPooling2D)  (None, 18, 18, 256)       0         \n",
      "                                                                 \n",
      " block4_conv1 (Conv2D)       (None, 18, 18, 512)       1180160   \n",
      "                                                                 \n",
      " block4_conv2 (Conv2D)       (None, 18, 18, 512)       2359808   \n",
      "                                                                 \n",
      " block4_conv3 (Conv2D)       (None, 18, 18, 512)       2359808   \n",
      "                                                                 \n",
      " block4_pool (MaxPooling2D)  (None, 9, 9, 512)         0         \n",
      "                                                                 \n",
      " block5_conv1 (Conv2D)       (None, 9, 9, 512)         2359808   \n",
      "                                                                 \n",
      " block5_conv2 (Conv2D)       (None, 9, 9, 512)         2359808   \n",
      "                                                                 \n",
      " block5_conv3 (Conv2D)       (None, 9, 9, 512)         2359808   \n",
      "                                                                 \n",
      " block5_pool (MaxPooling2D)  (None, 4, 4, 512)         0         \n",
      "                                                                 \n",
      "=================================================================\n",
      "Total params: 14,714,688\n",
      "Trainable params: 14,714,688\n",
      "Non-trainable params: 0\n",
      "_________________________________________________________________\n"
     ]
    }
   ],
   "source": [
    "conv_base.summary()"
   ]
  },
  {
   "cell_type": "markdown",
   "id": "2ec3d95d-b0eb-463a-9a26-4027058cf8bd",
   "metadata": {},
   "source": [
    "## 5.3.1 Quick features extraction without data augmentation"
   ]
  },
  {
   "cell_type": "code",
   "execution_count": 9,
   "id": "72351350-ee2c-4e9b-9187-c812b8dbae19",
   "metadata": {},
   "outputs": [],
   "source": [
    "import os\n",
    "import numpy as np\n",
    "from keras.preprocessing.image import ImageDataGenerator\n",
    "\n",
    "base_dir = r\"..\\data\\Dogs vs Cats\\NN Input\"\n",
    "train_dir = os.path.join(base_dir, 'train')\n",
    "val_dir = os.path.join(base_dir, 'validation')\n",
    "test_dir = os.path.join(base_dir, 'test')\n",
    "\n",
    "datagen = ImageDataGenerator(rescale=1./255)\n",
    "batch_size=20"
   ]
  },
  {
   "cell_type": "code",
   "execution_count": 11,
   "id": "503eddf8-50e8-46de-84c3-1f81d2926fad",
   "metadata": {},
   "outputs": [],
   "source": [
    "def extract_features(directory, sample_count):\n",
    "    features = np.zeros(shape=(sample_count, 4, 4, 512))\n",
    "    labels = np.zeros(shape=(sample_count))\n",
    "    generator = datagen.flow_from_directory(\n",
    "        directory,\n",
    "        target_size=(150, 150),\n",
    "        batch_size=batch_size,\n",
    "        class_mode='binary')\n",
    "    \n",
    "    i = 0\n",
    "    for inputs_batch, labels_batch in generator:\n",
    "        features_batch = conv_base.predict(inputs_batch)\n",
    "        features[i * batch_size : (i+1) * batch_size] = features_batch\n",
    "        labels[i * batch_size : (i+1) * batch_size] = labels_batch\n",
    "        i += 1\n",
    "        if i * batch_size >= sample_count:\n",
    "            break\n",
    "            \n",
    "    return features, labels"
   ]
  },
  {
   "cell_type": "code",
   "execution_count": 12,
   "id": "144f054c-2338-460b-99bb-d81e5db745cb",
   "metadata": {},
   "outputs": [
    {
     "name": "stdout",
     "output_type": "stream",
     "text": [
      "Found 2000 images belonging to 2 classes.\n",
      "Found 1000 images belonging to 2 classes.\n",
      "Found 1000 images belonging to 2 classes.\n"
     ]
    }
   ],
   "source": [
    "train_features, train_labels = extract_features(train_dir, 2000)\n",
    "val_features, val_labels = extract_features(val_dir, 1000)\n",
    "test_features, test_labels = extract_features(test_dir, 1000)"
   ]
  },
  {
   "cell_type": "code",
   "execution_count": 15,
   "id": "f34841bf-63ab-4fce-b1e6-532d66a87959",
   "metadata": {},
   "outputs": [],
   "source": [
    "train_features = np.reshape(train_features, (2000, 4*4*512))\n",
    "val_features = np.reshape(val_features, (1000, 4*4*512))\n",
    "test_features = np.reshape(test_features, (1000, 4*4*512))"
   ]
  },
  {
   "cell_type": "code",
   "execution_count": 17,
   "id": "2ca86d9c-beaa-4676-8ede-3d91bc71d239",
   "metadata": {},
   "outputs": [],
   "source": [
    "from tensorflow.keras import models, layers, optimizers\n",
    "\n",
    "model = models.Sequential()\n",
    "model.add(layers.Dense(256, activation='relu', input_dim=4*4*512))\n",
    "model.add(layers.Dropout(0.5))\n",
    "model.add(layers.Dense(1, activation='sigmoid'))\n",
    "\n",
    "model.compile(optimizer=optimizers.RMSprop(learning_rate=2e-5),\n",
    "              loss='binary_crossentropy',\n",
    "              metrics=['acc'])"
   ]
  },
  {
   "cell_type": "code",
   "execution_count": 18,
   "id": "0eac1803-d097-4b95-aeda-071502eb0e01",
   "metadata": {},
   "outputs": [
    {
     "name": "stdout",
     "output_type": "stream",
     "text": [
      "Epoch 1/30\n",
      "100/100 [==============================] - 5s 45ms/step - loss: 0.6044 - acc: 0.6620 - val_loss: 0.4493 - val_acc: 0.8480\n",
      "Epoch 2/30\n",
      "100/100 [==============================] - 4s 38ms/step - loss: 0.4319 - acc: 0.8090 - val_loss: 0.3673 - val_acc: 0.8560\n",
      "Epoch 3/30\n",
      "100/100 [==============================] - 4s 38ms/step - loss: 0.3655 - acc: 0.8485 - val_loss: 0.3266 - val_acc: 0.8750\n",
      "Epoch 4/30\n",
      "100/100 [==============================] - 4s 39ms/step - loss: 0.3185 - acc: 0.8590 - val_loss: 0.3026 - val_acc: 0.8880\n",
      "Epoch 5/30\n",
      "100/100 [==============================] - 4s 38ms/step - loss: 0.2914 - acc: 0.8810 - val_loss: 0.2861 - val_acc: 0.8930\n",
      "Epoch 6/30\n",
      "100/100 [==============================] - 4s 41ms/step - loss: 0.2646 - acc: 0.8995 - val_loss: 0.2746 - val_acc: 0.8920\n",
      "Epoch 7/30\n",
      "100/100 [==============================] - 4s 36ms/step - loss: 0.2447 - acc: 0.9125 - val_loss: 0.2674 - val_acc: 0.8920\n",
      "Epoch 8/30\n",
      "100/100 [==============================] - 4s 37ms/step - loss: 0.2349 - acc: 0.9075 - val_loss: 0.2711 - val_acc: 0.8910\n",
      "Epoch 9/30\n",
      "100/100 [==============================] - 4s 41ms/step - loss: 0.2181 - acc: 0.9185 - val_loss: 0.2567 - val_acc: 0.8990\n",
      "Epoch 10/30\n",
      "100/100 [==============================] - 3s 33ms/step - loss: 0.2096 - acc: 0.9185 - val_loss: 0.2515 - val_acc: 0.8990\n",
      "Epoch 11/30\n",
      "100/100 [==============================] - 3s 32ms/step - loss: 0.1975 - acc: 0.9290 - val_loss: 0.2475 - val_acc: 0.8980\n",
      "Epoch 12/30\n",
      "100/100 [==============================] - 3s 32ms/step - loss: 0.1863 - acc: 0.9370 - val_loss: 0.2449 - val_acc: 0.8990\n",
      "Epoch 13/30\n",
      "100/100 [==============================] - 3s 32ms/step - loss: 0.1803 - acc: 0.9365 - val_loss: 0.2449 - val_acc: 0.9020\n",
      "Epoch 14/30\n",
      "100/100 [==============================] - 3s 32ms/step - loss: 0.1697 - acc: 0.9405 - val_loss: 0.2408 - val_acc: 0.9020\n",
      "Epoch 15/30\n",
      "100/100 [==============================] - 3s 32ms/step - loss: 0.1635 - acc: 0.9410 - val_loss: 0.2429 - val_acc: 0.9030\n",
      "Epoch 16/30\n",
      "100/100 [==============================] - 3s 33ms/step - loss: 0.1571 - acc: 0.9445 - val_loss: 0.2393 - val_acc: 0.9020\n",
      "Epoch 17/30\n",
      "100/100 [==============================] - 3s 33ms/step - loss: 0.1483 - acc: 0.9495 - val_loss: 0.2380 - val_acc: 0.8990\n",
      "Epoch 18/30\n",
      "100/100 [==============================] - 3s 32ms/step - loss: 0.1462 - acc: 0.9440 - val_loss: 0.2371 - val_acc: 0.9000\n",
      "Epoch 19/30\n",
      "100/100 [==============================] - 3s 33ms/step - loss: 0.1401 - acc: 0.9530 - val_loss: 0.2460 - val_acc: 0.8960\n",
      "Epoch 20/30\n",
      "100/100 [==============================] - 3s 32ms/step - loss: 0.1324 - acc: 0.9565 - val_loss: 0.2353 - val_acc: 0.9010\n",
      "Epoch 21/30\n",
      "100/100 [==============================] - 3s 32ms/step - loss: 0.1320 - acc: 0.9530 - val_loss: 0.2363 - val_acc: 0.8980\n",
      "Epoch 22/30\n",
      "100/100 [==============================] - 3s 32ms/step - loss: 0.1221 - acc: 0.9580 - val_loss: 0.2361 - val_acc: 0.9020\n",
      "Epoch 23/30\n",
      "100/100 [==============================] - 3s 33ms/step - loss: 0.1199 - acc: 0.9615 - val_loss: 0.2352 - val_acc: 0.9040\n",
      "Epoch 24/30\n",
      "100/100 [==============================] - 3s 32ms/step - loss: 0.1179 - acc: 0.9640 - val_loss: 0.2351 - val_acc: 0.9030\n",
      "Epoch 25/30\n",
      "100/100 [==============================] - 3s 32ms/step - loss: 0.1085 - acc: 0.9655 - val_loss: 0.2356 - val_acc: 0.9050\n",
      "Epoch 26/30\n",
      "100/100 [==============================] - 3s 32ms/step - loss: 0.1083 - acc: 0.9630 - val_loss: 0.2414 - val_acc: 0.8990\n",
      "Epoch 27/30\n",
      "100/100 [==============================] - 3s 32ms/step - loss: 0.1034 - acc: 0.9665 - val_loss: 0.2444 - val_acc: 0.8990\n",
      "Epoch 28/30\n",
      "100/100 [==============================] - 3s 32ms/step - loss: 0.0968 - acc: 0.9685 - val_loss: 0.2383 - val_acc: 0.9050\n",
      "Epoch 29/30\n",
      "100/100 [==============================] - 3s 31ms/step - loss: 0.0959 - acc: 0.9715 - val_loss: 0.2387 - val_acc: 0.9030\n",
      "Epoch 30/30\n",
      "100/100 [==============================] - 3s 32ms/step - loss: 0.0891 - acc: 0.9760 - val_loss: 0.2430 - val_acc: 0.9020\n"
     ]
    }
   ],
   "source": [
    "history = model.fit(train_features, train_labels,\n",
    "                    epochs=30,\n",
    "                    batch_size=20,\n",
    "                    validation_data=(val_features, val_labels))"
   ]
  },
  {
   "cell_type": "code",
   "execution_count": 19,
   "id": "fe604986-ca6c-4534-b92a-3e5c9b44779d",
   "metadata": {},
   "outputs": [
    {
     "data": {
      "image/png": "[encoded data removed]",
      "text/plain": [
       "<Figure size 432x288 with 1 Axes>"
      ]
     },
     "metadata": {
      "needs_background": "light"
     },
     "output_type": "display_data"
    },
    {
     "data": {
      "image/png": "[encoded data removed]",
      "text/plain": [
       "<Figure size 432x288 with 1 Axes>"
      ]
     },
     "metadata": {
      "needs_background": "light"
     },
     "output_type": "display_data"
    }
   ],
   "source": [
    "import matplotlib.pyplot as plt\n",
    "\n",
    "acc = history.history['acc']\n",
    "val_acc = history.history['val_acc']\n",
    "loss = history.history['loss']\n",
    "val_loss = history.history['val_loss']\n",
    "\n",
    "epochs = range(len(acc))\n",
    "\n",
    "plt.plot(epochs, acc, 'bo', label='Train accuracy')\n",
    "plt.plot(epochs, val_acc, 'b', label='Validation accuracy')\n",
    "plt.title(\"Train and validation accuracy\")\n",
    "plt.legend()\n",
    "\n",
    "plt.figure()\n",
    "\n",
    "plt.plot(epochs, loss, 'bo', label='Train loss')\n",
    "plt.plot(epochs, val_loss, 'b', label='Validation loss')\n",
    "plt.title(\"Train and validation loss\")\n",
    "plt.legend()\n",
    "\n",
    "plt.show()"
   ]
  },
  {
   "cell_type": "markdown",
   "id": "1a639256-ba1e-4b3b-b746-cbb29b283aed",
   "metadata": {},
   "source": [
    "## 5.3.1 Features extraction with data augmentation"
   ]
  },
  {
   "cell_type": "code",
   "execution_count": 20,
   "id": "b0ae2176-4adf-41db-8c00-e8387e161e2c",
   "metadata": {},
   "outputs": [],
   "source": [
    "from keras import models\n",
    "from keras import layers\n",
    "\n",
    "model2 = models.Sequential()\n",
    "model2.add(conv_base)\n",
    "model2.add(layers.Flatten())\n",
    "model2.add(layers.Dense(256, activation='relu'))\n",
    "model2.add(layers.Dense(1, activation='sigmoid'))"
   ]
  },
  {
   "cell_type": "code",
   "execution_count": 21,
   "id": "58a81623-7281-4155-afab-127fee31445d",
   "metadata": {},
   "outputs": [
    {
     "name": "stdout",
     "output_type": "stream",
     "text": [
      "Model: \"sequential_2\"\n",
      "_________________________________________________________________\n",
      " Layer (type)                Output Shape              Param #   \n",
      "=================================================================\n",
      " vgg16 (Functional)          (None, 4, 4, 512)         14714688  \n",
      "                                                                 \n",
      " flatten (Flatten)           (None, 8192)              0         \n",
      "                                                                 \n",
      " dense_4 (Dense)             (None, 256)               2097408   \n",
      "                                                                 \n",
      " dense_5 (Dense)             (None, 1)                 257       \n",
      "                                                                 \n",
      "=================================================================\n",
      "Total params: 16,812,353\n",
      "Trainable params: 16,812,353\n",
      "Non-trainable params: 0\n",
      "_________________________________________________________________\n"
     ]
    }
   ],
   "source": [
    "model2.summary()"
   ]
  },
  {
   "cell_type": "markdown",
   "id": "15add56d-069c-4b01-b678-eaaf2e3b64a4",
   "metadata": {},
   "source": [
    "Freeze VGG16 layers."
   ]
  },
  {
   "cell_type": "code",
   "execution_count": 22,
   "id": "8d6c3739-b47a-45c1-8dc6-87ee929d94f1",
   "metadata": {},
   "outputs": [
    {
     "data": {
      "text/plain": [
       "30"
      ]
     },
     "execution_count": 22,
     "metadata": {},
     "output_type": "execute_result"
    }
   ],
   "source": [
    "len(model2.trainable_weights)"
   ]
  },
  {
   "cell_type": "code",
   "execution_count": 23,
   "id": "df688faa-76d4-4777-bcb9-7e016ec77c3b",
   "metadata": {},
   "outputs": [],
   "source": [
    "conv_base.trainable = False"
   ]
  },
  {
   "cell_type": "code",
   "execution_count": 24,
   "id": "9e9e0c73-c9ca-4570-a919-1c8ff606d87b",
   "metadata": {},
   "outputs": [
    {
     "data": {
      "text/plain": [
       "4"
      ]
     },
     "execution_count": 24,
     "metadata": {},
     "output_type": "execute_result"
    }
   ],
   "source": [
    "len(model2.trainable_weights)"
   ]
  },
  {
   "cell_type": "code",
   "execution_count": 29,
   "id": "43297778-1a27-4919-b201-598989d6c739",
   "metadata": {},
   "outputs": [],
   "source": [
    "from keras.preprocessing.image import ImageDataGenerator\n",
    "\n",
    "train_datagen_aug = ImageDataGenerator(\n",
    "    rescale=1./255,\n",
    "    rotation_range=40,\n",
    "    width_shift_range=0.2,\n",
    "    height_shift_range=0.2,\n",
    "    shear_range=0.2,\n",
    "    zoom_range=0.2,\n",
    "    horizontal_flip=True,\n",
    "    fill_mode='nearest')\n",
    "\n",
    "test_datagen = ImageDataGenerator(rescale=1./255)"
   ]
  },
  {
   "cell_type": "code",
   "execution_count": 30,
   "id": "6731e40f-c462-4a1f-a9d3-b3995edf6e7b",
   "metadata": {},
   "outputs": [
    {
     "name": "stdout",
     "output_type": "stream",
     "text": [
      "Found 2000 images belonging to 2 classes.\n",
      "Found 1000 images belonging to 2 classes.\n"
     ]
    }
   ],
   "source": [
    "train_generator = train_datagen_aug.flow_from_directory(\n",
    "    train_dir,\n",
    "    target_size=(150,150),\n",
    "    batch_size=20,\n",
    "    class_mode='binary')\n",
    "\n",
    "val_generator = test_datagen.flow_from_directory(\n",
    "    val_dir,\n",
    "    target_size=(150, 150),\n",
    "    batch_size=20,\n",
    "    class_mode='binary')"
   ]
  },
  {
   "cell_type": "code",
   "execution_count": 31,
   "id": "04648641-e170-4b73-b124-952ef80d7c53",
   "metadata": {},
   "outputs": [],
   "source": [
    "from tensorflow.keras import optimizers\n",
    "\n",
    "model2.compile(loss='binary_crossentropy',\n",
    "                      optimizer=optimizers.RMSprop(learning_rate=2e-5),\n",
    "                      metrics=['acc'])"
   ]
  },
  {
   "cell_type": "code",
   "execution_count": 34,
   "id": "7313d751-1d46-4322-b0c7-4be342b811d2",
   "metadata": {},
   "outputs": [
    {
     "name": "stderr",
     "output_type": "stream",
     "text": [
      "c:\\users\\errry\\appdata\\local\\programs\\python\\python37\\lib\\site-packages\\ipykernel_launcher.py:6: UserWarning: `Model.fit_generator` is deprecated and will be removed in a future version. Please use `Model.fit`, which supports generators.\n",
      "  \n"
     ]
    },
    {
     "name": "stdout",
     "output_type": "stream",
     "text": [
      "Epoch 1/10\n",
      "100/100 [==============================] - 369s 4s/step - loss: 0.5329 - acc: 0.7550 - val_loss: 0.4073 - val_acc: 0.8520\n",
      "Epoch 2/10\n",
      "100/100 [==============================] - 370s 4s/step - loss: 0.4580 - acc: 0.8005 - val_loss: 0.3479 - val_acc: 0.8710\n",
      "Epoch 3/10\n",
      "100/100 [==============================] - 370s 4s/step - loss: 0.4235 - acc: 0.8145 - val_loss: 0.3270 - val_acc: 0.8740\n",
      "Epoch 4/10\n",
      "100/100 [==============================] - 370s 4s/step - loss: 0.3924 - acc: 0.8260 - val_loss: 0.2975 - val_acc: 0.8820\n",
      "Epoch 5/10\n",
      "100/100 [==============================] - 368s 4s/step - loss: 0.3866 - acc: 0.8275 - val_loss: 0.2865 - val_acc: 0.8850\n",
      "Epoch 6/10\n",
      "100/100 [==============================] - 384s 4s/step - loss: 0.3622 - acc: 0.8425 - val_loss: 0.2758 - val_acc: 0.8900\n",
      "Epoch 7/10\n",
      "100/100 [==============================] - 378s 4s/step - loss: 0.3592 - acc: 0.8385 - val_loss: 0.2691 - val_acc: 0.8910\n",
      "Epoch 8/10\n",
      "100/100 [==============================] - 356s 4s/step - loss: 0.3403 - acc: 0.8445 - val_loss: 0.2656 - val_acc: 0.8990\n",
      "Epoch 9/10\n",
      "100/100 [==============================] - 362s 4s/step - loss: 0.3510 - acc: 0.8430 - val_loss: 0.2621 - val_acc: 0.8940\n",
      "Epoch 10/10\n",
      "100/100 [==============================] - 368s 4s/step - loss: 0.3451 - acc: 0.8460 - val_loss: 0.2577 - val_acc: 0.8970\n"
     ]
    }
   ],
   "source": [
    "history = model2.fit_generator(\n",
    "    train_generator,\n",
    "    steps_per_epoch=100,\n",
    "    epochs=10,\n",
    "    validation_data=val_generator,\n",
    "    validation_steps=50)"
   ]
  },
  {
   "cell_type": "code",
   "execution_count": 36,
   "id": "9d6c113d-8414-4ad1-821f-056767a89f97",
   "metadata": {},
   "outputs": [
    {
     "data": {
      "image/png": "[encoded data removed]",
      "text/plain": [
       "<Figure size 432x288 with 1 Axes>"
      ]
     },
     "metadata": {
      "needs_background": "light"
     },
     "output_type": "display_data"
    },
    {
     "data": {
      "image/png": "[encoded data removed]",
      "text/plain": [
       "<Figure size 432x288 with 1 Axes>"
      ]
     },
     "metadata": {
      "needs_background": "light"
     },
     "output_type": "display_data"
    }
   ],
   "source": [
    "acc = history.history['acc']\n",
    "val_acc = history.history['val_acc']\n",
    "loss = history.history['loss']\n",
    "val_loss = history.history['val_loss']\n",
    "\n",
    "epochs = range(len(acc))\n",
    "\n",
    "plt.plot(epochs, acc, 'bo', label='Train accuracy')\n",
    "plt.plot(epochs, val_acc, 'b', label='Validation accuracy')\n",
    "plt.title(\"Train and validation accuracy\")\n",
    "plt.legend()\n",
    "\n",
    "plt.figure()\n",
    "\n",
    "plt.plot(epochs, loss, 'bo', label='Train loss')\n",
    "plt.plot(epochs, val_loss, 'b', label='Validation loss')\n",
    "plt.title(\"Train and validation loss\")\n",
    "plt.legend()\n",
    "\n",
    "plt.show()"
   ]
  }
 ],
 "metadata": {
  "kernelspec": {
   "display_name": "Python 3 (ipykernel)",
   "language": "python",
   "name": "python3"
  },
  "language_info": {
   "codemirror_mode": {
    "name": "ipython",
    "version": 3
   },
   "file_extension": ".py",
   "mimetype": "text/x-python",
   "name": "python",
   "nbconvert_exporter": "python",
   "pygments_lexer": "ipython3",
   "version": "3.7.0"
  }
 },
 "nbformat": 4,
 "nbformat_minor": 5
}
