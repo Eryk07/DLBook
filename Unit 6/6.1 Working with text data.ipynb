{
 "cells": [
  {
   "cell_type": "markdown",
   "id": "29212923-d8b1-4786-8571-49d06ba6f9b0",
   "metadata": {},
   "source": [
    "# 6.1 Working with text data\n",
    "## 6.1.2 Words embedding\n",
    "### Setting embeddings with *Embedding* layer"
   ]
  },
  {
   "cell_type": "code",
   "execution_count": null,
   "id": "3cf05ce7-aaa6-40d9-b054-cf3a1f1ee263",
   "metadata": {},
   "outputs": [],
   "source": [
    "from keras.layers import Embedding\n",
    "\n",
    "embedding_layer = Embedding(1000, 64)"
   ]
  },
  {
   "cell_type": "code",
   "execution_count": null,
   "id": "cf5722fb-99e1-453b-8ac5-ad8d0badce4c",
   "metadata": {},
   "outputs": [],
   "source": []
  }
 ],
 "metadata": {
  "kernelspec": {
   "display_name": "Python 3 (ipykernel)",
   "language": "python",
   "name": "python3"
  },
  "language_info": {
   "codemirror_mode": {
    "name": "ipython",
    "version": 3
   },
   "file_extension": ".py",
   "mimetype": "text/x-python",
   "name": "python",
   "nbconvert_exporter": "python",
   "pygments_lexer": "ipython3",
   "version": "3.7.0"
  }
 },
 "nbformat": 4,
 "nbformat_minor": 5
}
